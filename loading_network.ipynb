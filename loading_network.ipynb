{
 "cells": [
  {
   "cell_type": "code",
   "execution_count": 246,
   "metadata": {},
   "outputs": [],
   "source": [
    "import os\n",
    "import torch\n",
    "from trainers.torch.networks import SplitValueSharedActorCritic\n",
    "from mlagents_envs.base_env import ObservationSpec, DimensionProperty, ObservationType\n",
    "from mlagents.trainers.settings import NetworkSettings, TrainerSettings\n",
    "from mlagents_envs.base_env import ActionSpec\n",
    "from trainers.policy.torch_policy import TorchPolicy\n",
    "from mlagents_envs.base_env import BehaviorSpec"
   ]
  },
  {
   "cell_type": "code",
   "execution_count": 247,
   "metadata": {},
   "outputs": [],
   "source": [
    "run_name=\"4-22-ppo-3\"\n",
    "load_path = f\"/home/rmarr/Projects/visibility-game-env/results/{run_name}/Seeker/checkpoint.pt\"\n",
    "saved_state_dict = torch.load(load_path)"
   ]
  },
  {
   "cell_type": "code",
   "execution_count": 248,
   "metadata": {},
   "outputs": [],
   "source": [
    "seed = 5404\n",
    "observation_specs = [ObservationSpec(\n",
    "            name=\"position_observation\",\n",
    "            shape=(12,),  # 3D vector\n",
    "            dimension_property=(DimensionProperty.NONE,),  # Must be a tuple\n",
    "            observation_type=ObservationType.DEFAULT\n",
    "        )]\n",
    "action_spec = ActionSpec(\n",
    "    continuous_size=0,\n",
    "    discrete_branches=(5,)\n",
    ")\n",
    "behavior_spec = BehaviorSpec(\n",
    "    observation_specs=observation_specs,\n",
    "    action_spec=action_spec\n",
    ")\n",
    "trainer_settings = TrainerSettings(\n",
    "    dual_critic=True\n",
    ")\n",
    "network_settings = NetworkSettings(\n",
    "    deterministic=False,\n",
    "    memory=None,\n",
    "    hidden_units=128,\n",
    "    num_layers=2,\n",
    ")\n",
    "\n",
    "stream_names = [\"default\"]\n",
    "conditional_sigma = False\n",
    "tanh_squash = False\n",
    "load_critic_only = \"position_only\""
   ]
  },
  {
   "cell_type": "code",
   "execution_count": 249,
   "metadata": {},
   "outputs": [
    {
     "name": "stdout",
     "output_type": "stream",
     "text": [
      "separate_critic: False\n"
     ]
    }
   ],
   "source": [
    "policy = TorchPolicy(\n",
    "    seed=seed,\n",
    "    behavior_spec=behavior_spec,\n",
    "    trainer_settings=trainer_settings,\n",
    "    tanh_squash=False,\n",
    "    separate_critic=False,\n",
    "    condition_sigma_on_obs=False,\n",
    "    load_critic_only=load_critic_only\n",
    ")"
   ]
  },
  {
   "cell_type": "code",
   "execution_count": 250,
   "metadata": {},
   "outputs": [],
   "source": [
    "modules = policy.get_modules()"
   ]
  },
  {
   "cell_type": "code",
   "execution_count": 251,
   "metadata": {},
   "outputs": [
    {
     "data": {
      "text/plain": [
       "odict_keys(['version_number', 'is_continuous_int_deprecated', 'continuous_act_size_vector', 'discrete_act_size_vector', 'act_size_vector_deprecated', 'memory_size_vector', 'network_body._body_endoder.seq_layers.0.weight', 'network_body._body_endoder.seq_layers.0.bias', 'network_body._body_endoder.seq_layers.2.weight', 'network_body._body_endoder.seq_layers.2.bias', 'action_model._discrete_distribution.branches.0.weight', 'action_model._discrete_distribution.branches.0.bias', 'value_heads.value_heads.extrinsic.weight', 'value_heads.value_heads.extrinsic.bias', 'position_network._body_endoder.seq_layers.0.weight', 'position_network._body_endoder.seq_layers.0.bias', 'position_network._body_endoder.seq_layers.2.weight', 'position_network._body_endoder.seq_layers.2.bias', 'crumbs_network._body_endoder.seq_layers.0.weight', 'crumbs_network._body_endoder.seq_layers.0.bias', 'crumbs_network._body_endoder.seq_layers.2.weight', 'crumbs_network._body_endoder.seq_layers.2.bias', 'importance_network._body_endoder.seq_layers.0.weight', 'importance_network._body_endoder.seq_layers.0.bias', 'importance_network._body_endoder.seq_layers.2.weight', 'importance_network._body_endoder.seq_layers.2.bias'])"
      ]
     },
     "execution_count": 251,
     "metadata": {},
     "output_type": "execute_result"
    }
   ],
   "source": [
    "saved_state_dict['Policy'].keys()"
   ]
  },
  {
   "cell_type": "code",
   "execution_count": 252,
   "metadata": {},
   "outputs": [],
   "source": [
    "position_state_dict = {k: v for k, v in saved_state_dict['Optimizer:critic'].items() if 'position_network' in k or 'cr'}\n",
    "importance_network_path = \"/home/rmarr/Projects/visibility-game-env/informed_init/bias_importance.pt\"\n",
    "importance_state_dict = torch.load(importance_network_path)"
   ]
  },
  {
   "cell_type": "code",
   "execution_count": 253,
   "metadata": {},
   "outputs": [
    {
     "data": {
      "text/plain": [
       "<All keys matched successfully>"
      ]
     },
     "execution_count": 253,
     "metadata": {},
     "output_type": "execute_result"
    }
   ],
   "source": [
    "modules['Policy'].load_state_dict(position_state_dict, strict=False)\n",
    "#modules['Policy'].load_state_dict(importance_state_dict, strict=False)"
   ]
  },
  {
   "cell_type": "code",
   "execution_count": 254,
   "metadata": {},
   "outputs": [],
   "source": [
    "positions = []\n",
    "for y in range(-4, 25, 1):\n",
    "    for x in range(-4, 25, 1):\n",
    "        positions.append([x-0.5, 0.5, y-0.5])\n",
    "positions = [torch.tensor(positions)]"
   ]
  },
  {
   "cell_type": "code",
   "execution_count": 255,
   "metadata": {},
   "outputs": [
    {
     "data": {
      "text/plain": [
       "841"
      ]
     },
     "execution_count": 255,
     "metadata": {},
     "output_type": "execute_result"
    }
   ],
   "source": [
    "len(positions[0])"
   ]
  },
  {
   "cell_type": "code",
   "execution_count": 256,
   "metadata": {},
   "outputs": [],
   "source": [
    "#policy.actor.critic_pass_position([torch.tensor([[8.5, 0.5, 2.5]])])[0]['extrinsic']"
   ]
  },
  {
   "cell_type": "code",
   "execution_count": 257,
   "metadata": {},
   "outputs": [],
   "source": [
    "vals = policy.actor.critic_pass_position(positions)[0]['extrinsic']"
   ]
  },
  {
   "cell_type": "code",
   "execution_count": 258,
   "metadata": {},
   "outputs": [
    {
     "data": {
      "text/plain": [
       "torch.Size([841])"
      ]
     },
     "execution_count": 258,
     "metadata": {},
     "output_type": "execute_result"
    }
   ],
   "source": [
    "vals.shape"
   ]
  },
  {
   "cell_type": "code",
   "execution_count": 259,
   "metadata": {},
   "outputs": [
    {
     "data": {
      "image/png": "[encoded data removed]",
      "text/plain": [
       "<Figure size 640x480 with 2 Axes>"
      ]
     },
     "metadata": {},
     "output_type": "display_data"
    }
   ],
   "source": [
    "import matplotlib.pyplot as plt\n",
    "import numpy as np\n",
    "\n",
    "# Assuming 'vals' is your tensor of 400 values\n",
    "vals_np = vals.detach().cpu().numpy()  # Convert tensor to numpy array\n",
    "\n",
    "# Reshape the values into a 20x20 grid\n",
    "grid = vals_np.reshape((29, 29))\n",
    "\n",
    "# Create a colormap with a gradient from blue (min) to red (max)\n",
    "cmap = plt.get_cmap('coolwarm')\n",
    "\n",
    "# Plot the heatmap\n",
    "plt.imshow(grid, cmap=cmap, origin='lower')\n",
    "\n",
    "# Add a color bar to show the scale\n",
    "plt.colorbar(label='Value')\n",
    "\n",
    "# Add labels and title\n",
    "plt.xlabel('X-axis')\n",
    "plt.ylabel('Y-axis')\n",
    "plt.title('20x20 Grid Visualization')\n",
    "\n",
    "# Show the plot\n",
    "plt.show()"
   ]
  },
  {
   "cell_type": "code",
   "execution_count": 260,
   "metadata": {},
   "outputs": [
    {
     "data": {
      "text/plain": [
       "array([[-3880.4128  , -2512.537   , -1180.6586  ,    71.67025 ,\n",
       "         1259.1146  ,  2369.9995  ,  3285.3977  ,  4216.9053  ,\n",
       "         5270.989   ,  5917.4375  ,  6285.4346  ,  6564.387   ,\n",
       "         6875.745   ,  7236.6445  ,  7609.164   ,  7985.234   ,\n",
       "         8357.27    ,  8732.132   ,  9115.329   ,  9504.478   ,\n",
       "         9896.354   , 10284.445   , 10671.334   , 11061.814   ,\n",
       "        11453.771   , 11843.362   , 12235.617   , 12632.42    ,\n",
       "        13033.545   ],\n",
       "       [-4439.3613  , -3116.7136  , -1761.408   ,  -445.70383 ,\n",
       "          779.703   ,  1900.2043  ,  2788.0986  ,  3817.5579  ,\n",
       "         4893.0127  ,  5549.45    ,  5906.7466  ,  6229.562   ,\n",
       "         6574.6436  ,  6932.5415  ,  7291.197   ,  7653.369   ,\n",
       "         8024.3857  ,  8403.001   ,  8786.859   ,  9167.1045  ,\n",
       "         9551.848   ,  9939.675   , 10325.648   , 10714.448   ,\n",
       "        11108.5205  , 11507.524   , 11911.165   , 12319.19    ,\n",
       "        12731.349   ],\n",
       "       [-4890.802   , -3651.1047  , -2334.01    ,  -993.94727 ,\n",
       "          280.0364  ,  1412.7087  ,  2288.354   ,  3453.2717  ,\n",
       "         4558.4785  ,  5204.165   ,  5609.7544  ,  5943.0625  ,\n",
       "         6275.2334  ,  6610.5425  ,  6962.4336  ,  7328.213   ,\n",
       "         7700.073   ,  8071.276   ,  8450.171   ,  8830.275   ,\n",
       "         9213.528   ,  9602.333   ,  9996.647   , 10396.087   ,\n",
       "        10800.299   , 11209.007   , 11621.97    , 12038.976   ,\n",
       "        12459.82    ],\n",
       "       [-5096.6626  , -4055.8267  , -2832.3403  , -1535.841   ,\n",
       "         -246.78035 ,   914.1099  ,  1793.3588  ,  3133.8616  ,\n",
       "         4264.723   ,  4947.4077  ,  5345.5176  ,  5652.064   ,\n",
       "         5964.2783  ,  6301.727   ,  6650.342   ,  7006.5864  ,\n",
       "         7368.686   ,  7738.118   ,  8116.3975  ,  8501.686   ,\n",
       "         8893.117   ,  9290.541   ,  9693.561   , 10101.77    ,\n",
       "        10514.829   , 10932.446   , 11354.325   , 11780.062   ,\n",
       "        12209.077   ],\n",
       "       [-5113.875   , -4206.47    , -3178.5776  , -1979.1031  ,\n",
       "         -750.7811  ,   413.43594 ,  1412.3885  ,  2928.8125  ,\n",
       "         4061.6125  ,  4703.377   ,  5080.024   ,  5368.676   ,\n",
       "         5663.184   ,  5977.3657  ,  6313.33    ,  6665.887   ,\n",
       "         7032.034   ,  7409.61    ,  7795.9727  ,  8190.024   ,\n",
       "         8591.205   ,  8998.454   ,  9410.885   ,  9828.364   ,\n",
       "        10250.674   , 10677.375   , 11107.975   , 11541.979   ,\n",
       "        11978.88    ],\n",
       "       [-5074.388   , -4212.2173  , -3306.5244  , -2261.2043  ,\n",
       "        -1115.4645  ,   -53.516045,  1174.609   ,  2817.552   ,\n",
       "         3871.327   ,  4447.5215  ,  4794.1562  ,  5056.627   ,\n",
       "         5332.0615  ,  5645.139   ,  5985.7476  ,  6344.903   ,\n",
       "         6718.535   ,  7103.904   ,  7499.352   ,  7903.6323  ,\n",
       "         8315.494   ,  8733.895   ,  9157.969   ,  9586.958   ,\n",
       "        10020.162   , 10456.923   , 10896.612   , 11338.661   ,\n",
       "        11782.541   ],\n",
       "       [-5023.2397  , -4179.3975  , -3311.1265  , -2354.5498  ,\n",
       "        -1284.401   ,  -193.0134  ,  1152.5104  ,  2686.0972  ,\n",
       "         3648.2837  ,  4152.802   ,  4475.4136  ,  4752.0967  ,\n",
       "         5024.64    ,  5339.9106  ,  5685.181   ,  6051.855   ,\n",
       "         6435.0737  ,  6831.633   ,  7239.1147  ,  7655.4863  ,\n",
       "         8079.146   ,  8508.806   ,  8943.383   ,  9381.941   ,\n",
       "         9823.664   , 10267.848   , 10713.891   , 11161.298   ,\n",
       "        11609.677   ],\n",
       "       [-4960.6553  , -4127.97    , -3248.6072  , -2284.1902  ,\n",
       "        -1158.6942  ,   153.90718 ,  1457.985   ,  2656.3147  ,\n",
       "         3460.2056  ,  3880.76    ,  4171.0933  ,  4459.9165  ,\n",
       "         4737.247   ,  5057.803   ,  5411.5713  ,  5789.545   ,\n",
       "         6186.1772  ,  6596.891   ,  7018.2173  ,  7447.592   ,\n",
       "         7883.0776  ,  8323.18    ,  8766.733   ,  9212.824   ,\n",
       "         9660.742   , 10109.947   , 10560.031   , 11010.698   ,\n",
       "        11461.738   ],\n",
       "       [-4848.191   , -3973.1958  , -3004.346   , -1942.188   ,\n",
       "         -716.4226  ,   758.15686 ,  2104.4622  ,  2827.2656  ,\n",
       "         3422.432   ,  3709.1877  ,  3943.3667  ,  4222.129   ,\n",
       "         4503.4155  ,  4821.9824  ,  5178.2876  ,  5561.898   ,\n",
       "         5972.132   ,  6396.881   ,  6831.636   ,  7273.4224  ,\n",
       "         7719.998   ,  8169.723   ,  8621.405   ,  9074.216   ,\n",
       "         9527.586   ,  9981.155   , 10434.715   , 10888.162   ,\n",
       "        11341.465   ],\n",
       "       [-4566.186   , -3587.2688  , -2572.9204  , -1437.4215  ,\n",
       "         -103.99305 ,  1539.9371  ,  2958.0579  ,  3364.0166  ,\n",
       "         3583.186   ,  3714.1404  ,  3886.7642  ,  4130.8135  ,\n",
       "         4387.172   ,  4682.759   ,  5027.8574  ,  5413.509   ,\n",
       "         5825.3066  ,  6251.2974  ,  6687.0776  ,  7128.9106  ,\n",
       "         7582.5757  ,  8039.8247  ,  8498.102   ,  8956.659   ,\n",
       "         9414.993   ,  9872.82    , 10330.015   , 10786.539   ,\n",
       "        11242.419   ],\n",
       "       [-4138.055   , -3158.2144  , -2085.723   ,  -795.9539  ,\n",
       "          586.875   ,  2348.4858  ,  3794.3167  ,  4243.6963  ,\n",
       "         4114.4976  ,  3878.3022  ,  3936.3691  ,  4124.892   ,\n",
       "         4383.4966  ,  4684.0986  ,  5008.249   ,  5353.211   ,\n",
       "         5742.0664  ,  6155.701   ,  6593.399   ,  7037.9517  ,\n",
       "         7487.6265  ,  7940.255   ,  8394.137   ,  8851.852   ,\n",
       "         9314.784   ,  9776.595   , 10237.372   , 10697.053   ,\n",
       "        11155.672   ],\n",
       "       [-3714.5251  , -2679.8774  , -1449.2969  ,  -120.25261 ,\n",
       "         1396.4734  ,  3204.7012  ,  4633.9863  ,  5298.889   ,\n",
       "         5039.6035  ,  4513.809   ,  4140.65    ,  4196.928   ,\n",
       "         4401.755   ,  4701.018   ,  5044.5107  ,  5396.8765  ,\n",
       "         5756.982   ,  6128.901   ,  6540.1987  ,  6966.51    ,\n",
       "         7416.5635  ,  7867.7715  ,  8321.766   ,  8777.463   ,\n",
       "         9233.877   ,  9690.13    , 10146.623   , 10609.88    ,\n",
       "        11071.586   ],\n",
       "       [-3231.6318  , -2070.265   ,  -776.4792  ,   602.84314 ,\n",
       "         2322.407   ,  4115.995   ,  5524.0024  ,  6310.8623  ,\n",
       "         6200.151   ,  5525.78    ,  4891.3613  ,  4522.201   ,\n",
       "         4531.64    ,  4774.0205  ,  5096.358   ,  5454.1475  ,\n",
       "         5824.083   ,  6190.3613  ,  6560.8257  ,  6950.929   ,\n",
       "         7369.3496  ,  7801.534   ,  8255.578   ,  8710.127   ,\n",
       "         9165.334   ,  9621.604   , 10078.235   , 10534.768   ,\n",
       "        10990.6875  ],\n",
       "       [-2646.2822  , -1403.3654  ,   -71.38877 ,  1370.972   ,\n",
       "         3281.4878  ,  5056.0415  ,  6431.777   ,  7231.8784  ,\n",
       "         7298.622   ,  6725.723   ,  5960.4     ,  5337.913   ,\n",
       "         5021.821   ,  4953.6045  ,  5210.9165  ,  5538.507   ,\n",
       "         5898.4966  ,  6269.311   ,  6641.969   ,  7012.9507  ,\n",
       "         7384.0884  ,  7788.6553  ,  8206.831   ,  8640.623   ,\n",
       "         9094.367   ,  9551.407   , 10006.601   , 10463.212   ,\n",
       "        10919.831   ],\n",
       "       [-1980.744   ,  -689.0647  ,   694.05707 ,  2270.7012  ,\n",
       "         4251.3325  ,  6006.0264  ,  7336.457   ,  8130.2593  ,\n",
       "         8320.816   ,  7917.214   ,  7146.7944  ,  6446.186   ,\n",
       "         5895.393   ,  5617.8584  ,  5476.2104  ,  5682.9473  ,\n",
       "         6007.51    ,  6363.0757  ,  6730.476   ,  7102.374   ,\n",
       "         7468.9478  ,  7841.4062  ,  8220.13    ,  8627.508   ,\n",
       "         9044.406   ,  9477.258   ,  9928.519   , 10386.692   ,\n",
       "        10841.857   ],\n",
       "       [-1268.4688  ,    56.08725 ,  1488.702   ,  3238.963   ,\n",
       "         5221.173   ,  6953.8853  ,  8235.1045  ,  8995.879   ,\n",
       "         9214.558   ,  8974.398   ,  8325.514   ,  7616.4194  ,\n",
       "         7026.7847  ,  6534.7065  ,  6256.83    ,  6085.3535  ,\n",
       "         6192.206   ,  6491.5146  ,  6840.2935  ,  7201.8745  ,\n",
       "         7568.9897  ,  7936.725   ,  8301.52    ,  8669.418   ,\n",
       "         9058.419   ,  9463.903   ,  9879.264   , 10310.485   ,\n",
       "        10758.327   ],\n",
       "       [ -518.3358  ,   842.43677 ,  2282.5203  ,  4214.806   ,\n",
       "         6188.8135  ,  7892.4336  ,  9113.532   ,  9825.639   ,\n",
       "        10046.082   ,  9917.733   ,  9435.638   ,  8771.898   ,\n",
       "         8171.7397  ,  7659.2373  ,  7208.5615  ,  6914.9624  ,\n",
       "         6732.031   ,  6735.9766  ,  6997.4634  ,  7325.281   ,\n",
       "         7680.814   ,  8042.5664  ,  8406.821   ,  8767.858   ,\n",
       "         9131.543   ,  9501.787   ,  9895.539   , 10297.867   ,\n",
       "        10711.321   ],\n",
       "       [  243.47995 ,  1635.3406  ,  3176.4634  ,  5185.816   ,\n",
       "         7149.3545  ,  8818.615   ,  9977.341   , 10625.692   ,\n",
       "        10829.417   , 10734.157   , 10433.106   ,  9891.691   ,\n",
       "         9300.218   ,  8777.431   ,  8314.549   ,  7888.1157  ,\n",
       "         7581.9023  ,  7385.102   ,  7310.855   ,  7533.6826  ,\n",
       "         7829.002   ,  8164.8765  ,  8521.702   ,  8881.306   ,\n",
       "         9241.404   ,  9599.555   ,  9959.543   , 10337.29    ,\n",
       "        10730.754   ],\n",
       "       [ 1020.64404 ,  2425.0576  ,  4123.9165  ,  6151.872   ,\n",
       "         8099.8413  ,  9729.161   , 10826.696   , 11398.158   ,\n",
       "        11571.423   , 11512.835   , 11293.011   , 10928.859   ,\n",
       "        10397.151   ,  9882.203   ,  9407.467   ,  8977.548   ,\n",
       "         8566.32    ,  8247.434   ,  8038.8916  ,  7943.9634  ,\n",
       "         8084.3887  ,  8359.298   ,  8668.707   ,  9005.643   ,\n",
       "         9360.288   ,  9717.319   , 10073.843   , 10428.635   ,\n",
       "        10791.291   ],\n",
       "       [ 1807.5151  ,  3200.136   ,  5087.3535  ,  7111.9194  ,\n",
       "         9038.938   , 10623.714   , 11662.605   , 12153.598   ,\n",
       "        12277.989   , 12251.94    , 12087.808   , 11873.064   ,\n",
       "        11455.653   , 10961.05    , 10491.786   , 10047.77    ,\n",
       "         9641.206   ,  9240.272   ,  8909.705   ,  8691.178   ,\n",
       "         8585.079   ,  8657.04    ,  8901.345   ,  9195.97    ,\n",
       "         9511.677   ,  9846.806   , 10197.037   , 10553.298   ,\n",
       "        10903.967   ],\n",
       "       [ 2582.1555  ,  4071.318   ,  6047.9727  ,  8065.5225  ,\n",
       "         9966.226   , 11503.04    , 12486.468   , 12902.988   ,\n",
       "        12968.766   , 12956.411   , 12856.284   , 12695.633   ,\n",
       "        12439.4     , 12014.854   , 11558.22    , 11113.069   ,\n",
       "        10692.038   , 10302.56    ,  9909.177   ,  9568.023   ,\n",
       "         9342.972   ,  9225.781   ,  9237.785   ,  9455.757   ,\n",
       "         9732.35    , 10038.683   , 10358.376   , 10691.753   ,\n",
       "        11038.434   ],\n",
       "       [ 3348.449   ,  4998.813   ,  7006.4834  ,  9012.885   ,\n",
       "        10881.863   , 12368.674   , 13299.723   , 13650.692   ,\n",
       "        13656.792   , 13641.223   , 13602.516   , 13484.423   ,\n",
       "        13330.314   , 13020.255   , 12599.493   , 12169.862   ,\n",
       "        11738.917   , 11337.635   , 10960.558   , 10573.161   ,\n",
       "        10222.33    ,  9996.959   ,  9865.627   ,  9842.066   ,\n",
       "        10022.721   , 10277.153   , 10570.659   , 10883.812   ,\n",
       "        11206.614   ],\n",
       "       [ 4111.1143  ,  5954.4043  ,  7962.041   ,  9953.338   ,\n",
       "        11786.333   , 13222.655   , 14103.825   , 14397.406   ,\n",
       "        14348.682   , 14314.608   , 14324.823   , 14255.205   ,\n",
       "        14143.756   , 13966.773   , 13617.189   , 13203.852   ,\n",
       "        12785.753   , 12367.035   , 11983.305   , 11615.034   ,\n",
       "        11232.717   , 10872.759   , 10647.683   , 10504.283   ,\n",
       "        10469.631   , 10596.88    , 10830.978   , 11108.961   ,\n",
       "        11412.661   ],\n",
       "       [ 4972.7227  ,  6910.771   ,  8914.829   , 10886.162   ,\n",
       "        12680.339   , 14066.7295  , 14900.159   , 15143.214   ,\n",
       "        15047.661   , 14984.072   , 15027.768   , 15010.22    ,\n",
       "        14930.422   , 14819.704   , 14584.937   , 14220.344   ,\n",
       "        13815.174   , 13401.897   , 12997.017   , 12628.293   ,\n",
       "        12266.21    , 11888.403   , 11519.418   , 11295.588   ,\n",
       "        11141.545   , 11098.483   , 11170.904   , 11394.027   ,\n",
       "        11653.831   ],\n",
       "       [ 5890.9536  ,  7867.369   ,  9864.081   , 11810.837   ,\n",
       "        13564.587   , 14902.256   , 15689.931   , 15888.073   ,\n",
       "        15754.516   , 15656.597   , 15710.781   , 15749.282   ,\n",
       "        15705.421   , 15626.411   , 15507.354   , 15205.928   ,\n",
       "        14829.751   , 14427.98    , 14017.972   , 13628.802   ,\n",
       "        13272.106   , 12914.456   , 12540.756   , 12163.232   ,\n",
       "        11940.952   , 11777.327   , 11727.101   , 11751.756   ,\n",
       "        11959.341   ],\n",
       "       [ 6844.984   ,  8823.156   , 10808.434   , 12727.11    ,\n",
       "        14439.172   , 15730.342   , 16474.117   , 16631.902   ,\n",
       "        16468.621   , 16337.563   , 16385.455   , 16471.346   ,\n",
       "        16470.615   , 16411.201   , 16331.242   , 16151.025   ,\n",
       "        15831.804   , 15442.306   , 15040.469   , 14635.143   ,\n",
       "        14262.152   , 13914.45    , 13560.165   , 13190.237   ,\n",
       "        12807.14    , 12584.029   , 12416.509   , 12355.423   ,\n",
       "        12360.239   ],\n",
       "       [ 7801.3677  ,  9777.613   , 11746.72    , 13635.009   ,\n",
       "        15304.596   , 16551.908   , 17253.496   , 17374.662   ,\n",
       "        17188.566   , 17029.951   , 17058.598   , 17180.744   ,\n",
       "        17223.857   , 17190.396   , 17132.46    , 17046.486   ,\n",
       "        16794.594   , 16446.549   , 16054.871   , 15652.437   ,\n",
       "        15254.679   , 14896.583   , 14555.194   , 14203.711   ,\n",
       "        13837.233   , 13452.839   , 13225.037   , 13055.421   ,\n",
       "        12983.388   ],\n",
       "       [ 8758.619   , 10729.133   , 12678.145   , 14534.754   ,\n",
       "        16162.463   , 17367.727   , 18028.705   , 18116.426   ,\n",
       "        17912.824   , 17734.238   , 17734.889   , 17874.871   ,\n",
       "        17963.01    , 17961.785   , 17915.045   , 17858.502   ,\n",
       "        17721.191   , 17429.479   , 17061.236   , 16666.51    ,\n",
       "        16264.33    , 15877.365   , 15531.534   , 15194.336   ,\n",
       "        14845.397   , 14482.068   , 14100.845   , 13864.179   ,\n",
       "        13692.83    ],\n",
       "       [ 9715.9     , 11676.127   , 13602.28    , 15426.732   ,\n",
       "        17013.604   , 18178.414   , 18800.252   , 18857.355   ,\n",
       "        18640.156   , 18449.078   , 18419.195   , 18556.113   ,\n",
       "        18688.762   , 18725.059   , 18695.922   , 18654.865   ,\n",
       "        18589.328   , 18381.994   , 18057.87    , 17674.543   ,\n",
       "        17277.23    , 16877.033   , 16503.324   , 16166.51    ,\n",
       "        15831.966   , 15485.463   , 15125.017   , 14748.117   ,\n",
       "        14501.621   ]], dtype=float32)"
      ]
     },
     "execution_count": 260,
     "metadata": {},
     "output_type": "execute_result"
    }
   ],
   "source": [
    "grid"
   ]
  },
  {
   "cell_type": "code",
   "execution_count": 261,
   "metadata": {},
   "outputs": [
    {
     "data": {
      "text/plain": [
       "(29, 29)"
      ]
     },
     "execution_count": 261,
     "metadata": {},
     "output_type": "execute_result"
    }
   ],
   "source": [
    "grid.shape"
   ]
  },
  {
   "cell_type": "code",
   "execution_count": 262,
   "metadata": {},
   "outputs": [
    {
     "name": "stdout",
     "output_type": "stream",
     "text": [
      "Direct GMM fit:\n",
      "  weights: [1.]\n",
      "  means:  \n",
      " [[9.5 9.5]]\n",
      "  covars: \n",
      " [[[70.000001  0.      ]\n",
      "  [ 0.       70.000001]]]\n",
      "\n",
      "Resampled GMM fit:\n",
      "  weights: [1.]\n",
      "  means:  \n",
      " [[11.5487 12.4945]]\n",
      "  covars: \n",
      " [[[ 59.54732931 -17.71308215]\n",
      "  [-17.71308215  73.67247075]]]\n"
     ]
    }
   ],
   "source": [
    "# In[22]: Fit a multicomponent GMM to your 29×29 grid\n",
    "import numpy as np\n",
    "from sklearn.mixture import GaussianMixture\n",
    "\n",
    "# 1) Reconstruct the (x,y) positions from your grid indices\n",
    "#    You originally did: for y in range(-4,25), x in range(-4,25): pos = [x-0.5, 0.5, y-0.5]\n",
    "#    We only need the (x,y) plane here:\n",
    "xs = np.arange(-4, 25) - 0.5   # length = 29\n",
    "ys = np.arange(-4, 25) - 0.5   # length = 29\n",
    "xx, yy = np.meshgrid(xs, ys, indexing=\"xy\")\n",
    "pos2 = np.stack([xx.ravel(), yy.ravel()], axis=1)  # shape = (841, 2)\n",
    "\n",
    "# 2) Flatten your grid of values (shape = (29,29)) into weights w (shape = (841,))\n",
    "w = grid.flatten().clip(min=0)   # ensure non‑negative weights\n",
    "if w.sum() <= 0:\n",
    "    raise ValueError(\"All grid values are non‑positive!\")\n",
    "\n",
    "# Choose how many Gaussian components you want:\n",
    "K = 1\n",
    "\n",
    "# ───────────────────────────────────────────────────\n",
    "# Approach A: Directly pass sample_weight (sklearn ≥0.20)\n",
    "# ───────────────────────────────────────────────────\n",
    "gmm_direct = GaussianMixture(\n",
    "    n_components=K,\n",
    "    covariance_type=\"full\",\n",
    "    random_state=0,\n",
    ")\n",
    "# this requires scikit‑learn >= 0.20\n",
    "gmm_direct.fit(pos2, w)\n",
    "\n",
    "print(\"Direct GMM fit:\")\n",
    "print(\"  weights:\", gmm_direct.weights_)\n",
    "print(\"  means:  \\n\", gmm_direct.means_)\n",
    "print(\"  covars: \\n\", gmm_direct.covariances_)\n",
    "\n",
    "\n",
    "# ───────────────────────────────────────────────────\n",
    "# Approach B: Bootstrapped resampling (for older sklearn)\n",
    "# ───────────────────────────────────────────────────\n",
    "def fit_gmm_by_resampling(pos2, w, n_components=3, n_samples=20_000, seed=None):\n",
    "    \"\"\"\n",
    "    Approximate weighted GMM by drawing samples with probability ∝ w.\n",
    "    Returns a fitted GaussianMixture object.\n",
    "    \"\"\"\n",
    "    rng = np.random.default_rng(seed)\n",
    "    p = w / w.sum()\n",
    "    idxs = rng.choice(len(pos2), size=n_samples, p=p)\n",
    "    pos_rs = pos2[idxs]\n",
    "    gm = GaussianMixture(\n",
    "        n_components=n_components,\n",
    "        covariance_type=\"full\",\n",
    "        random_state=seed,\n",
    "    )\n",
    "    gm.fit(pos_rs)\n",
    "    return gm\n",
    "\n",
    "gmm_mc = fit_gmm_by_resampling(pos2, w, n_components=K, n_samples=20_000, seed=42)\n",
    "print(\"\\nResampled GMM fit:\")\n",
    "print(\"  weights:\", gmm_mc.weights_)\n",
    "print(\"  means:  \\n\", gmm_mc.means_)\n",
    "print(\"  covars: \\n\", gmm_mc.covariances_)"
   ]
  },
  {
   "cell_type": "code",
   "execution_count": 263,
   "metadata": {},
   "outputs": [
    {
     "data": {
      "image/png": "[encoded data removed]",
      "text/plain": [
       "<Figure size 600x600 with 1 Axes>"
      ]
     },
     "metadata": {},
     "output_type": "display_data"
    }
   ],
   "source": [
    "import numpy as np\n",
    "import matplotlib.pyplot as plt\n",
    "from matplotlib.patches import Ellipse\n",
    "\n",
    "# — assume you have already:\n",
    "#    xs, ys    : 1D arrays of your grid‐coords (length 29)\n",
    "#    gmm       : fitted sklearn.mixture.GaussianMixture with K components\n",
    "\n",
    "gmm = gmm_mc\n",
    "\n",
    "# 1) Build a fine mesh over the same x,y span\n",
    "x_min, x_max = xs.min(), xs.max()\n",
    "y_min, y_max = ys.min(), ys.max()\n",
    "n_grid = 200\n",
    "xx, yy = np.meshgrid(\n",
    "    np.linspace(x_min, x_max, n_grid),\n",
    "    np.linspace(y_min, y_max, n_grid),\n",
    ")\n",
    "xy = np.column_stack([xx.ravel(), yy.ravel()])\n",
    "\n",
    "# 2) Evaluate GMM density\n",
    "log_dens = gmm_mc.score_samples(xy)        # log‑density at each mesh point\n",
    "dens = np.exp(log_dens).reshape(xx.shape)\n",
    "\n",
    "# 3) Plot density contours\n",
    "plt.figure(figsize=(6,6))\n",
    "cs = plt.contour(\n",
    "    xx, yy, dens,\n",
    "    levels=6,           # number of contour levels\n",
    "    cmap=\"viridis\",\n",
    "    linewidths=1.2,\n",
    ")\n",
    "plt.clabel(cs, inline=1, fontsize=10, fmt=\"%.1e\")\n",
    "\n",
    "# 4) Plot 1σ ellipses for each component\n",
    "for weight, mean, cov in zip(gmm.weights_, gmm.means_, gmm.covariances_):\n",
    "    # eigen‐decompose cov to get ellipse parameters\n",
    "    vals, vecs = np.linalg.eigh(cov)\n",
    "    order = vals.argsort()[::-1]\n",
    "    vals, vecs = vals[order], vecs[:, order]\n",
    "    angle = np.degrees(np.arctan2(*vecs[:,0][::-1]))\n",
    "    width, height = 2 * np.sqrt(vals)   # 1σ → factor=2*sqrt(eigenvalue)\n",
    "    ell = Ellipse(\n",
    "        xy=mean,\n",
    "        width=width, height=height,\n",
    "        angle=angle,\n",
    "        edgecolor=\"black\",\n",
    "        facecolor=\"none\",\n",
    "        lw=2,\n",
    "    )\n",
    "    plt.gca().add_patch(ell)\n",
    "\n",
    "# 5) Mark component means\n",
    "plt.scatter(gmm.means_[:,0], gmm.means_[:,1], c=\"red\", marker=\"x\", s=100, label=\"means\")\n",
    "\n",
    "# Finalize\n",
    "plt.title(\"GMM Density Contours + 1σ Ellipses\")\n",
    "plt.xlabel(\"x\")\n",
    "plt.ylabel(\"y\")\n",
    "plt.legend()\n",
    "plt.axis(\"equal\")\n",
    "plt.show()"
   ]
  },
  {
   "cell_type": "code",
   "execution_count": 264,
   "metadata": {},
   "outputs": [
    {
     "name": "stderr",
     "output_type": "stream",
     "text": [
      "/tmp/ipykernel_3143163/1375546978.py:33: MatplotlibDeprecationWarning: The get_cmap function was deprecated in Matplotlib 3.7 and will be removed two minor releases later. Use ``matplotlib.colormaps[name]`` or ``matplotlib.colormaps.get_cmap(obj)`` instead.\n",
      "  cmap = cm.get_cmap('viridis')\n"
     ]
    },
    {
     "data": {
      "application/vnd.jupyter.widget-view+json": {
       "model_id": "677dba0ec0cd441a87bd53534454f5b4",
       "version_major": 2,
       "version_minor": 0
      },
      "text/plain": [
       "HBox(children=(Button(description='🔄 Reset Drawing', style=ButtonStyle()),))"
      ]
     },
     "metadata": {},
     "output_type": "display_data"
    },
    {
     "data": {
      "application/vnd.jupyter.widget-view+json": {
       "model_id": "958cef7123074ed19a45fa29d92666ed",
       "version_major": 2,
       "version_minor": 0
      },
      "text/plain": [
       "Canvas(height=600, width=600)"
      ]
     },
     "metadata": {},
     "output_type": "display_data"
    },
    {
     "name": "stdout",
     "output_type": "stream",
     "text": [
      "▶ Draw 1st axis by press‐&‐drag, then 2nd axis by press‐&‐drag.\n"
     ]
    }
   ],
   "source": [
    "# ─────────────────────────────────────────────────────────────────────────────\n",
    "# Notebook cell: gaussian_drawer_with_reset.ipynb\n",
    "# ─────────────────────────────────────────────────────────────────────────────\n",
    "\n",
    "from ipycanvas import Canvas\n",
    "from ipywidgets import Button, HBox\n",
    "from IPython.display import display\n",
    "import numpy as np\n",
    "from scipy.stats import multivariate_normal\n",
    "from matplotlib import cm\n",
    "import math\n",
    "\n",
    "# ───────────────────────────────────────────────────────────────\n",
    "# 1) Assumed already in your namespace:\n",
    "#    xs, ys  : 1D arrays of your original grid (len=29)\n",
    "#    gmm_mc  : fitted sklearn.mixture.GaussianMixture\n",
    "# ───────────────────────────────────────────────────────────────\n",
    "\n",
    "# 2) Precompute the GMM‐density background as RGBA\n",
    "WIDTH, HEIGHT = 600, 600\n",
    "x_min, x_max = xs.min(), xs.max()\n",
    "y_min, y_max = ys.min(), ys.max()\n",
    "\n",
    "# Build pixel↔data mapping grid\n",
    "px = np.linspace(x_min, x_max, WIDTH)\n",
    "py = np.linspace(y_max, y_min, HEIGHT)   # invert y so canvas‐top = y_max\n",
    "XX, YY = np.meshgrid(px, py)\n",
    "XY = np.column_stack([XX.ravel(), YY.ravel()])\n",
    "\n",
    "logq = gmm_mc.score_samples(XY)\n",
    "q_img = np.exp(logq).reshape((HEIGHT, WIDTH))\n",
    "q_norm = (q_img - q_img.min()) / (q_img.max() - q_img.min())\n",
    "cmap = cm.get_cmap('viridis')\n",
    "rgba_bg = (cmap(q_norm) * 255).astype(np.uint8)\n",
    "\n",
    "# 3) Create the canvas and the Reset button\n",
    "canvas = Canvas(width=WIDTH, height=HEIGHT)\n",
    "reset_btn = Button(description=\"🔄 Reset Drawing\")\n",
    "display(HBox([reset_btn]))\n",
    "display(canvas)\n",
    "\n",
    "# 4) Interactive state\n",
    "state   = 0     # 0=await major, 1=dragging major, 2=await minor, 3=dragging minor, 4=done\n",
    "center  = None\n",
    "vec1    = None\n",
    "vec2    = None\n",
    "startxy = None\n",
    "\n",
    "def redraw_background():\n",
    "    \"\"\"Re‐paint the GMM background.\"\"\"\n",
    "    canvas.clear()\n",
    "    canvas.put_image_data(rgba_bg, 0, 0)\n",
    "\n",
    "# 5) Mouse callbacks (no 'buttons' arg!)\n",
    "def on_mouse_down(x, y):\n",
    "    global state, center, startxy\n",
    "    if state == 0:\n",
    "        center  = (x, y)\n",
    "        startxy = (x, y)\n",
    "        state   = 1\n",
    "    elif state == 2:\n",
    "        startxy = (x, y)\n",
    "        state   = 3\n",
    "\n",
    "def on_mouse_move(x, y):\n",
    "    if state not in (1, 3):\n",
    "        return\n",
    "    redraw_background()\n",
    "    canvas.stroke_style = 'magenta'\n",
    "    canvas.line_width   = 2\n",
    "    # draw first axis if exists\n",
    "    if vec1 is not None:\n",
    "        x0, y0 = center\n",
    "        x1, y1 = x0 + vec1[0], y0 + vec1[1]\n",
    "        canvas.stroke_line(x0, y0, x1, y1)\n",
    "    # draw the currently‐dragged axis\n",
    "    if state == 1:\n",
    "        canvas.stroke_line(center[0], center[1], x, y)\n",
    "    else:  # state == 3\n",
    "        canvas.stroke_line(center[0], center[1], x, y)\n",
    "\n",
    "def on_mouse_up(x, y):\n",
    "    global state, vec1, vec2\n",
    "    if state == 1:\n",
    "        vec1  = (x - startxy[0], y - startxy[1])\n",
    "        state = 2\n",
    "    elif state == 3:\n",
    "        vec2  = (x - startxy[0], y - startxy[1])\n",
    "        state = 4\n",
    "        finalize_drawing()\n",
    "\n",
    "def finalize_drawing():\n",
    "    \"\"\"Compute drawn‐Gaussian, overlay it, and print L2/KL metrics.\"\"\"\n",
    "    # convert pixel ←→ data\n",
    "    def pix2data(vx, vy):\n",
    "        dx = (x_max - x_min)/(WIDTH-1)\n",
    "        dy = (y_max - y_min)/(HEIGHT-1)\n",
    "        return np.array([ x_min + vx*dx,\n",
    "                          y_max - vy*dy ])\n",
    "\n",
    "    mu_ds = pix2data(*center)\n",
    "    p1_ds = pix2data(center[0]+vec1[0], center[1]+vec1[1]) - mu_ds\n",
    "    p2_ds = pix2data(center[0]+vec2[0], center[1]+vec2[1]) - mu_ds\n",
    "\n",
    "    s1 = np.linalg.norm(p1_ds); e1 = p1_ds/s1\n",
    "    s2 = np.linalg.norm(p2_ds); e2 = p2_ds/s2\n",
    "    cov_draw = s1**2*np.outer(e1,e1) + s2**2*np.outer(e2,e2)\n",
    "\n",
    "    # safely build the pdf (allow singular)\n",
    "    rv = multivariate_normal(mean=mu_ds, cov=cov_draw, allow_singular=True)\n",
    "    dens_p = rv.pdf(XY).reshape((HEIGHT, WIDTH))\n",
    "\n",
    "    # overlay the drawn Gaussian as semi‐transparent heatmap\n",
    "    p_norm  = (dens_p - dens_p.min())/(dens_p.max()-dens_p.min())\n",
    "    rgba_p  = (cmap(p_norm)*255).astype(np.uint8)\n",
    "    rgba_p[...,3] = 128\n",
    "    canvas.global_alpha = 0.6\n",
    "    canvas.put_image_data(rgba_p, 0, 0)\n",
    "    canvas.global_alpha = 1.0\n",
    "\n",
    "    # draw the ellipse outline\n",
    "    import math\n",
    "    angle_rad = math.atan2(e1[1], e1[0])\n",
    "    r1 = math.hypot(*vec1)\n",
    "    r2 = math.hypot(*vec2)\n",
    "\n",
    "    canvas.stroke_style = 'white'\n",
    "    canvas.line_width   = 2\n",
    "\n",
    "    canvas.begin_path()\n",
    "    canvas.ellipse(\n",
    "        center[0], center[1],\n",
    "        r1, r2,\n",
    "        angle_rad,\n",
    "        0,             # start angle\n",
    "        2*math.pi      # end angle\n",
    "    )\n",
    "    canvas.stroke()\n",
    "\n",
    "    # compute errors on the original pixel‐grid\n",
    "    dx = (x_max - x_min)/(WIDTH-1)\n",
    "    dy = (y_max - y_min)/(HEIGHT-1)\n",
    "    area = dx*dy\n",
    "    p = dens_p.ravel()\n",
    "    q = q_img.ravel()\n",
    "    L2 = np.sqrt(np.sum((p-q)**2)*area)\n",
    "    KL = np.sum(p*(np.log(p+1e-12)-np.log(q+1e-12)))*area\n",
    "\n",
    "    print(f\"L2 error = {L2:.3e}\")\n",
    "    print(f\"KL(p‖q)  = {KL:.3e}\")\n",
    "\n",
    "# 6) Start/re‑start function\n",
    "def start_drawing(*_):\n",
    "    \"\"\"Reset state, clear canvas, and re‑attach callbacks.\"\"\"\n",
    "    global state, center, vec1, vec2, startxy\n",
    "    state  = 0\n",
    "    center = vec1 = vec2 = startxy = None\n",
    "    redraw_background()\n",
    "    canvas.on_mouse_down(on_mouse_down)\n",
    "    canvas.on_mouse_move(on_mouse_move)\n",
    "    canvas.on_mouse_up(on_mouse_up)\n",
    "    print(\"▶ Draw 1st axis by press‐&‐drag, then 2nd axis by press‐&‐drag.\")\n",
    "\n",
    "# hook Reset button\n",
    "reset_btn.on_click(start_drawing)\n",
    "\n",
    "# Initial kick‐off\n",
    "start_drawing()"
   ]
  }
 ],
 "metadata": {
  "kernelspec": {
   "display_name": ".visibility-game-env",
   "language": "python",
   "name": "python3"
  },
  "language_info": {
   "codemirror_mode": {
    "name": "ipython",
    "version": 3
   },
   "file_extension": ".py",
   "mimetype": "text/x-python",
   "name": "python",
   "nbconvert_exporter": "python",
   "pygments_lexer": "ipython3",
   "version": "3.8.10"
  }
 },
 "nbformat": 4,
 "nbformat_minor": 2
}
