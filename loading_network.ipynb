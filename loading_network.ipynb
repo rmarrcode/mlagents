{
 "cells": [
  {
   "cell_type": "code",
   "execution_count": 1,
   "metadata": {},
   "outputs": [],
   "source": [
    "import os\n",
    "import torch\n",
    "from trainers.torch.networks import SplitValueSharedActorCritic\n",
    "from mlagents_envs.base_env import ObservationSpec, DimensionProperty, ObservationType\n",
    "from mlagents.trainers.settings import NetworkSettings, TrainerSettings\n",
    "from mlagents_envs.base_env import ActionSpec\n",
    "from trainers.policy.torch_policy import TorchPolicy\n",
    "from mlagents_envs.base_env import BehaviorSpec"
   ]
  },
  {
   "cell_type": "code",
   "execution_count": 2,
   "metadata": {},
   "outputs": [],
   "source": [
    "load_path = \"/home/rmarr/Projects/visibility-game-env/results/dcnew2/Seeker/checkpoint.pt\"\n",
    "saved_state_dict = torch.load(load_path)"
   ]
  },
  {
   "cell_type": "code",
   "execution_count": 3,
   "metadata": {},
   "outputs": [],
   "source": [
    "seed = 5404\n",
    "observation_specs = [ObservationSpec(\n",
    "            name=\"position_observation\",\n",
    "            shape=(12,),  # 3D vector\n",
    "            dimension_property=(DimensionProperty.NONE,),  # Must be a tuple\n",
    "            observation_type=ObservationType.DEFAULT\n",
    "        )]\n",
    "action_spec = ActionSpec(\n",
    "    continuous_size=0,\n",
    "    discrete_branches=(5,)\n",
    ")\n",
    "behavior_spec = BehaviorSpec(\n",
    "    observation_specs=observation_specs,\n",
    "    action_spec=action_spec\n",
    ")\n",
    "trainer_settings = TrainerSettings(\n",
    "    dual_critic=True\n",
    ")\n",
    "network_settings = NetworkSettings(\n",
    "    deterministic=False,\n",
    "    memory=None,\n",
    "    hidden_units=128,\n",
    "    num_layers=2,\n",
    ")\n",
    "\n",
    "stream_names = [\"default\"]\n",
    "conditional_sigma = False\n",
    "tanh_squash = False\n",
    "load_critic_only = \"position_only\""
   ]
  },
  {
   "cell_type": "code",
   "execution_count": 4,
   "metadata": {},
   "outputs": [],
   "source": [
    "policy = TorchPolicy(\n",
    "    seed=seed,\n",
    "    behavior_spec=behavior_spec,\n",
    "    trainer_settings=trainer_settings,\n",
    "    tanh_squash=False,\n",
    "    separate_critic=True,\n",
    "    condition_sigma_on_obs=False,\n",
    "    load_critic_only='default'\n",
    ")"
   ]
  },
  {
   "cell_type": "code",
   "execution_count": 5,
   "metadata": {},
   "outputs": [],
   "source": [
    "modules = policy.get_modules()"
   ]
  },
  {
   "cell_type": "code",
   "execution_count": 6,
   "metadata": {},
   "outputs": [
    {
     "data": {
      "text/plain": [
       "<All keys matched successfully>"
      ]
     },
     "execution_count": 6,
     "metadata": {},
     "output_type": "execute_result"
    }
   ],
   "source": [
    "modules['Policy'].load_state_dict(saved_state_dict['Policy'])"
   ]
  },
  {
   "cell_type": "code",
   "execution_count": 7,
   "metadata": {},
   "outputs": [],
   "source": [
    "positions = []\n",
    "for y in range(-9, 11, 1):\n",
    "    for x in range(-9, 11, 1):\n",
    "        positions.append([x-0.5, 0.5, y-0.5])\n",
    "positions = [torch.tensor(positions)]"
   ]
  },
  {
   "cell_type": "code",
   "execution_count": 8,
   "metadata": {},
   "outputs": [
    {
     "ename": "NameError",
     "evalue": "name 'inputs' is not defined",
     "output_type": "error",
     "traceback": [
      "\u001b[0;31m---------------------------------------------------------------------------\u001b[0m",
      "\u001b[0;31mNameError\u001b[0m                                 Traceback (most recent call last)",
      "Cell \u001b[0;32mIn[8], line 1\u001b[0m\n\u001b[0;32m----> 1\u001b[0m \u001b[38;5;28mlen\u001b[39m(\u001b[43minputs\u001b[49m[\u001b[38;5;241m0\u001b[39m])\n",
      "\u001b[0;31mNameError\u001b[0m: name 'inputs' is not defined"
     ]
    }
   ],
   "source": [
    "len(inputs[0])"
   ]
  },
  {
   "cell_type": "code",
   "execution_count": 9,
   "metadata": {},
   "outputs": [
    {
     "data": {
      "text/plain": [
       "tensor([690.8771], grad_fn=<SqueezeBackward1>)"
      ]
     },
     "execution_count": 9,
     "metadata": {},
     "output_type": "execute_result"
    }
   ],
   "source": [
    "policy.actor.critic_pass_position([torch.tensor([[8.5, 0.5, 2.5]])])[0]['extrinsic']"
   ]
  },
  {
   "cell_type": "code",
   "execution_count": 10,
   "metadata": {},
   "outputs": [
    {
     "ename": "NameError",
     "evalue": "name 'inputs' is not defined",
     "output_type": "error",
     "traceback": [
      "\u001b[0;31m---------------------------------------------------------------------------\u001b[0m",
      "\u001b[0;31mNameError\u001b[0m                                 Traceback (most recent call last)",
      "Cell \u001b[0;32mIn[10], line 1\u001b[0m\n\u001b[0;32m----> 1\u001b[0m vals \u001b[38;5;241m=\u001b[39m policy\u001b[38;5;241m.\u001b[39mactor\u001b[38;5;241m.\u001b[39mcritic_pass_position(\u001b[43minputs\u001b[49m)[\u001b[38;5;241m0\u001b[39m][\u001b[38;5;124m'\u001b[39m\u001b[38;5;124mextrinsic\u001b[39m\u001b[38;5;124m'\u001b[39m]\n\u001b[1;32m      2\u001b[0m vals\n",
      "\u001b[0;31mNameError\u001b[0m: name 'inputs' is not defined"
     ]
    }
   ],
   "source": [
    "vals = policy.actor.critic_pass_position(inputs)[0]['extrinsic']\n",
    "vals"
   ]
  },
  {
   "cell_type": "code",
   "execution_count": 11,
   "metadata": {},
   "outputs": [
    {
     "ename": "NameError",
     "evalue": "name 'vals' is not defined",
     "output_type": "error",
     "traceback": [
      "\u001b[0;31m---------------------------------------------------------------------------\u001b[0m",
      "\u001b[0;31mNameError\u001b[0m                                 Traceback (most recent call last)",
      "Cell \u001b[0;32mIn[11], line 5\u001b[0m\n\u001b[1;32m      2\u001b[0m \u001b[38;5;28;01mimport\u001b[39;00m \u001b[38;5;21;01mnumpy\u001b[39;00m \u001b[38;5;28;01mas\u001b[39;00m \u001b[38;5;21;01mnp\u001b[39;00m\n\u001b[1;32m      4\u001b[0m \u001b[38;5;66;03m# Assuming 'vals' is your tensor of 400 values\u001b[39;00m\n\u001b[0;32m----> 5\u001b[0m vals_np \u001b[38;5;241m=\u001b[39m \u001b[43mvals\u001b[49m\u001b[38;5;241m.\u001b[39mdetach()\u001b[38;5;241m.\u001b[39mcpu()\u001b[38;5;241m.\u001b[39mnumpy()  \u001b[38;5;66;03m# Convert tensor to numpy array\u001b[39;00m\n\u001b[1;32m      7\u001b[0m \u001b[38;5;66;03m# Reshape the values into a 20x20 grid\u001b[39;00m\n\u001b[1;32m      8\u001b[0m grid \u001b[38;5;241m=\u001b[39m vals_np\u001b[38;5;241m.\u001b[39mreshape((\u001b[38;5;241m20\u001b[39m, \u001b[38;5;241m20\u001b[39m))\n",
      "\u001b[0;31mNameError\u001b[0m: name 'vals' is not defined"
     ]
    }
   ],
   "source": [
    "import matplotlib.pyplot as plt\n",
    "import numpy as np\n",
    "\n",
    "# Assuming 'vals' is your tensor of 400 values\n",
    "vals_np = vals.detach().cpu().numpy()  # Convert tensor to numpy array\n",
    "\n",
    "# Reshape the values into a 20x20 grid\n",
    "grid = vals_np.reshape((20, 20))\n",
    "\n",
    "# Create a colormap with a gradient from blue (min) to red (max)\n",
    "cmap = plt.get_cmap('coolwarm')\n",
    "\n",
    "# Plot the heatmap\n",
    "plt.imshow(grid, cmap=cmap, origin='lower')\n",
    "\n",
    "# Add a color bar to show the scale\n",
    "plt.colorbar(label='Value')\n",
    "\n",
    "# Add labels and title\n",
    "plt.xlabel('X-axis')\n",
    "plt.ylabel('Y-axis')\n",
    "plt.title('20x20 Grid Visualization')\n",
    "\n",
    "# Show the plot\n",
    "plt.show()"
   ]
  }
 ],
 "metadata": {
  "kernelspec": {
   "display_name": ".visibility-game-env",
   "language": "python",
   "name": "python3"
  },
  "language_info": {
   "codemirror_mode": {
    "name": "ipython",
    "version": 3
   },
   "file_extension": ".py",
   "mimetype": "text/x-python",
   "name": "python",
   "nbconvert_exporter": "python",
   "pygments_lexer": "ipython3",
   "version": "3.8.10"
  }
 },
 "nbformat": 4,
 "nbformat_minor": 2
}
