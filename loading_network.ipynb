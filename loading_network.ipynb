{
 "cells": [
  {
   "cell_type": "code",
   "execution_count": 12,
   "metadata": {},
   "outputs": [],
   "source": [
    "import os\n",
    "import torch\n",
    "from trainers.torch.networks import SplitValueSharedActorCritic\n",
    "from mlagents_envs.base_env import ObservationSpec, DimensionProperty, ObservationType\n",
    "from mlagents.trainers.settings import NetworkSettings, TrainerSettings\n",
    "from mlagents_envs.base_env import ActionSpec\n",
    "from trainers.policy.torch_policy import TorchPolicy\n",
    "from mlagents_envs.base_env import BehaviorSpec"
   ]
  },
  {
   "cell_type": "code",
   "execution_count": 13,
   "metadata": {},
   "outputs": [],
   "source": [
    "load_path = \"/home/rmarr/Projects/visibility-game-env/results/dcnew2/Seeker/checkpoint.pt\"\n",
    "saved_state_dict = torch.load(load_path)"
   ]
  },
  {
   "cell_type": "code",
   "execution_count": 14,
   "metadata": {},
   "outputs": [],
   "source": [
    "seed = 5404\n",
    "observation_specs = [ObservationSpec(\n",
    "            name=\"position_observation\",\n",
    "            shape=(12,),  # 3D vector\n",
    "            dimension_property=(DimensionProperty.NONE,),  # Must be a tuple\n",
    "            observation_type=ObservationType.DEFAULT\n",
    "        )]\n",
    "action_spec = ActionSpec(\n",
    "    continuous_size=0,\n",
    "    discrete_branches=(5,)\n",
    ")\n",
    "behavior_spec = BehaviorSpec(\n",
    "    observation_specs=observation_specs,\n",
    "    action_spec=action_spec\n",
    ")\n",
    "trainer_settings = TrainerSettings(\n",
    "    dual_critic=True\n",
    ")\n",
    "network_settings = NetworkSettings(\n",
    "    deterministic=False,\n",
    "    memory=None,\n",
    "    hidden_units=128,\n",
    "    num_layers=2,\n",
    ")\n",
    "\n",
    "stream_names = [\"default\"]\n",
    "conditional_sigma = False\n",
    "tanh_squash = False\n",
    "load_critic_only = \"position_only\""
   ]
  },
  {
   "cell_type": "code",
   "execution_count": 15,
   "metadata": {},
   "outputs": [],
   "source": [
    "policy = TorchPolicy(\n",
    "    seed=seed,\n",
    "    behavior_spec=behavior_spec,\n",
    "    trainer_settings=trainer_settings,\n",
    "    tanh_squash=False,\n",
    "    separate_critic=True,\n",
    "    condition_sigma_on_obs=False,\n",
    "    load_critic_only='default'\n",
    ")"
   ]
  },
  {
   "cell_type": "code",
   "execution_count": 16,
   "metadata": {},
   "outputs": [],
   "source": [
    "modules = policy.get_modules()"
   ]
  },
  {
   "cell_type": "code",
   "execution_count": 17,
   "metadata": {},
   "outputs": [
    {
     "data": {
      "text/plain": [
       "<All keys matched successfully>"
      ]
     },
     "execution_count": 17,
     "metadata": {},
     "output_type": "execute_result"
    }
   ],
   "source": [
    "modules['Policy'].load_state_dict(saved_state_dict['Policy'])"
   ]
  },
  {
   "cell_type": "code",
   "execution_count": 18,
   "metadata": {},
   "outputs": [],
   "source": [
    "positions = []\n",
    "for y in range(-9, 11, 1):\n",
    "    for x in range(-9, 11, 1):\n",
    "        positions.append([x-0.5, 0.5, y-0.5])\n",
    "positions = [torch.tensor(positions)]"
   ]
  },
  {
   "cell_type": "code",
   "execution_count": null,
   "metadata": {},
   "outputs": [],
   "source": [
    "for pos"
   ]
  },
  {
   "cell_type": "code",
   "execution_count": 19,
   "metadata": {},
   "outputs": [
    {
     "data": {
      "text/plain": [
       "400"
      ]
     },
     "execution_count": 19,
     "metadata": {},
     "output_type": "execute_result"
    }
   ],
   "source": [
    "len(inputs[0])"
   ]
  },
  {
   "cell_type": "code",
   "execution_count": 20,
   "metadata": {},
   "outputs": [
    {
     "data": {
      "text/plain": [
       "tensor([-2232.8245], grad_fn=<SqueezeBackward1>)"
      ]
     },
     "execution_count": 20,
     "metadata": {},
     "output_type": "execute_result"
    }
   ],
   "source": [
    "policy.actor.critic_pass_position([torch.tensor([[8.5, 0.5, 2.5]])])[0]['extrinsic']"
   ]
  },
  {
   "cell_type": "code",
   "execution_count": 21,
   "metadata": {},
   "outputs": [
    {
     "data": {
      "text/plain": [
       "tensor([-12586.6074, -12123.9277, -11726.8594, -11305.7793, -10809.3262,\n",
       "        -10235.2285,  -9620.5674,  -9052.4023,  -8544.4512,  -8124.9502,\n",
       "         -7747.1094,  -7443.1406,  -7246.0566,  -7126.5718,  -6982.5850,\n",
       "         -6878.1338,  -7028.2759,  -7284.3169,  -7534.6147,  -7775.9243,\n",
       "        -12277.3066, -11686.0566, -11207.0645, -10803.8506, -10344.7705,\n",
       "         -9807.0176,  -9208.7129,  -8595.7031,  -8086.5806,  -7648.4629,\n",
       "         -7276.7158,  -6974.9390,  -6789.8784,  -6683.5864,  -6544.2603,\n",
       "         -6500.3433,  -6702.3008,  -6964.4409,  -7210.7910,  -7452.7856,\n",
       "        -12118.9619, -11390.0811, -10793.8779, -10292.7793,  -9856.0098,\n",
       "         -9360.6719,  -8786.5430,  -8160.5938,  -7622.1519,  -7165.0278,\n",
       "         -6799.6162,  -6500.7847,  -6332.6323,  -6237.8672,  -6112.4600,\n",
       "         -6147.4126,  -6383.5239,  -6644.1885,  -6886.7222,  -7153.6372,\n",
       "        -12084.7031, -11256.6377, -10514.2178,  -9899.5615,  -9365.1943,\n",
       "         -8889.9658,  -8356.2432,  -7747.7256,  -7151.0146,  -6675.0112,\n",
       "         -6315.0269,  -6019.0913,  -5870.4097,  -5788.5684,  -5693.3047,\n",
       "         -5811.2930,  -6068.8364,  -6323.5474,  -6579.1445,  -6860.7144,\n",
       "        -12093.4199, -11236.4395, -10403.4092,  -9640.9736,  -8997.8027,\n",
       "         -8426.9229,  -7903.4595,  -7330.7920,  -6698.0420,  -6195.5854,\n",
       "         -5821.6982,  -5528.0132,  -5399.6128,  -5335.0376,  -5292.6392,\n",
       "         -5483.5220,  -5752.1719,  -6009.1440,  -6286.0698,  -6567.7222,\n",
       "        -12097.9170, -11256.5615, -10403.3486,  -9560.4072,  -8771.2578,\n",
       "         -8094.1919,  -7478.5825,  -6895.8340,  -6273.5591,  -5722.5776,\n",
       "         -5328.0381,  -5037.7788,  -4917.2622,  -4877.6802,  -4914.3325,\n",
       "         -5157.6621,  -5432.3491,  -5710.5879,  -5991.8813,  -6205.4653,\n",
       "        -12122.7002, -11292.0430, -10449.5449,  -9600.9463,  -8731.7510,\n",
       "         -7912.9233,  -7188.6460,  -6515.2856,  -5848.0366,  -5219.2788,\n",
       "         -4807.3169,  -4542.0493,  -4419.7563,  -4418.4038,  -4552.6279,\n",
       "         -4833.9497,  -5128.4253,  -5398.4619,  -5611.8125,  -5812.5195,\n",
       "        -11876.0332, -11145.0645, -10405.5400,  -9627.6738,  -8812.3115,\n",
       "         -7939.4561,  -7078.8423,  -6272.3657,  -5490.7046,  -4713.1475,\n",
       "         -4227.3472,  -3969.2661,  -3876.6450,  -3948.5061,  -4192.2393,\n",
       "         -4510.5879,  -4781.8804,  -5006.4248,  -5152.6860,  -5258.9453,\n",
       "        -11421.3340, -10709.7188,  -9998.4053,  -9301.9141,  -8610.6328,\n",
       "         -7877.4531,  -7074.3115,  -6205.1860,  -5295.5146,  -4395.0176,\n",
       "         -3682.7175,  -3371.8113,  -3266.2078,  -3440.3623,  -3767.0037,\n",
       "         -4063.1587,  -4307.4902,  -4447.9219,  -4553.4600,  -4641.5454,\n",
       "        -10989.0107, -10266.0723,  -9550.9316,  -8849.0400,  -8168.1694,\n",
       "         -7503.8110,  -6792.4717,  -6000.5972,  -5081.1084,  -4103.4863,\n",
       "         -3016.8689,  -2456.9431,  -2280.7375,  -2555.2068,  -3065.7952,\n",
       "         -3457.7556,  -3664.3269,  -3796.5698,  -3890.5752,  -3967.0911,\n",
       "        -10592.3545,  -9863.7314,  -9143.4463,  -8435.2012,  -7745.9331,\n",
       "         -7085.8394,  -6455.6177,  -5751.5659,  -4874.2407,  -3787.5232,\n",
       "         -2104.9382,   -653.5958,   -384.5289,   -872.5934,  -1554.0032,\n",
       "         -2099.1394,  -2466.7825,  -2727.3452,  -2952.5515,  -3180.6030,\n",
       "        -10174.7168,  -9436.1855,  -8704.9561,  -7984.3726,  -7280.8042,\n",
       "         -6604.7358,  -5969.1558,  -5369.3999,  -4625.9487,  -3592.8464,\n",
       "         -1614.9570,    652.5309,   1498.7117,    804.1170,    -86.6183,\n",
       "          -785.0370,  -1349.4443,  -1821.1532,  -2240.3196,  -2649.0125,\n",
       "         -9745.6064,  -8995.9688,  -8252.6855,  -7519.3921,  -6803.4077,\n",
       "         -6099.3940,  -5427.6934,  -4812.9292,  -4247.9165,  -3482.4771,\n",
       "         -1649.6145,    695.9587,   2234.9395,   1604.1151,    581.4617,\n",
       "          -330.1736,  -1087.3763,  -1702.3781,  -2232.8245,  -2727.5095,\n",
       "         -9315.9375,  -8564.2246,  -7817.5024,  -7079.9375,  -6368.1050,\n",
       "         -5692.5879,  -5067.9067,  -4511.2017,  -4032.0403,  -3546.4705,\n",
       "         -2490.2095,   -366.8556,   1459.5325,   1246.8478,    427.8962,\n",
       "          -462.1404,  -1283.7550,  -1930.3076,  -2479.7102,  -2972.0107,\n",
       "         -9018.4150,  -8302.7119,  -7603.4512,  -6924.1665,  -6270.2549,\n",
       "         -5649.3286,  -5072.2749,  -4556.4966,  -4117.6924,  -3690.2024,\n",
       "         -3132.2563,  -1695.9713,    -64.0813,    282.7696,   -196.6149,\n",
       "          -800.2149,  -1506.6230,  -2153.6580,  -2716.5542,  -3215.9036,\n",
       "         -8997.7334,  -8325.9531,  -7667.5864,  -7024.7764,  -6400.7793,\n",
       "         -5800.5703,  -5233.7847,  -4720.6309,  -4279.5444,  -3862.5793,\n",
       "         -3356.2842,  -2576.9287,  -1345.3016,   -545.3160,  -1005.8632,\n",
       "         -1399.5010,  -1833.8148,  -2376.2009,  -2920.8618,  -3424.0403,\n",
       "         -9141.7363,  -8494.9873,  -7854.4067,  -7221.9287,  -6600.7207,\n",
       "         -5996.1416,  -5419.2451,  -4893.6230,  -4436.2417,  -4012.3521,\n",
       "         -3525.8862,  -2983.9277,  -2281.7595,  -1436.0052,  -1627.5193,\n",
       "         -2011.6628,  -2353.2163,  -2727.7568,  -3170.4683,  -3632.9636,\n",
       "         -9352.4648,  -8708.1631,  -8066.0171,  -7428.6323,  -6799.3745,\n",
       "         -6184.0332,  -5594.6763,  -5056.5161,  -4581.0542,  -4138.3530,\n",
       "         -3676.7615,  -3335.8499,  -2798.5408,  -2174.8708,  -2137.3145,\n",
       "         -2611.6772,  -2919.6628,  -3180.3530,  -3473.7869,  -3881.1877,\n",
       "         -9561.4951,  -8912.6309,  -8265.6084,  -7622.3989,  -6986.0010,\n",
       "         -6362.0586,  -5763.5332,  -5215.4404,  -4721.9136,  -4256.4185,\n",
       "         -3834.6887,  -3612.4949,  -3264.5422,  -2668.3145,  -2578.7185,\n",
       "         -2918.7424,  -3354.3362,  -3720.5430,  -3939.7185,  -4157.7334,\n",
       "         -9755.2197,  -9103.6533,  -8453.9688,  -7807.4419,  -7166.6948,\n",
       "         -6537.0630,  -5932.7305,  -5376.2905,  -4864.3086,  -4378.3408,\n",
       "         -4016.6199,  -3875.4607,  -3652.0251,  -3138.2244,  -2963.9138,\n",
       "         -3251.6672,  -3662.8005,  -4040.8452,  -4353.5190,  -4628.0894],\n",
       "       grad_fn=<SqueezeBackward1>)"
      ]
     },
     "execution_count": 21,
     "metadata": {},
     "output_type": "execute_result"
    }
   ],
   "source": [
    "vals = policy.actor.critic_pass_position(inputs)[0]['extrinsic']\n",
    "vals"
   ]
  },
  {
   "cell_type": "code",
   "execution_count": 22,
   "metadata": {},
   "outputs": [
    {
     "data": {
      "image/png": "[encoded data removed]",
      "text/plain": [
       "<Figure size 640x480 with 2 Axes>"
      ]
     },
     "metadata": {},
     "output_type": "display_data"
    }
   ],
   "source": [
    "import matplotlib.pyplot as plt\n",
    "import numpy as np\n",
    "\n",
    "# Assuming 'vals' is your tensor of 400 values\n",
    "vals_np = vals.detach().cpu().numpy()  # Convert tensor to numpy array\n",
    "\n",
    "# Reshape the values into a 20x20 grid\n",
    "grid = vals_np.reshape((20, 20))\n",
    "\n",
    "# Create a colormap with a gradient from blue (min) to red (max)\n",
    "cmap = plt.get_cmap('coolwarm')\n",
    "\n",
    "# Plot the heatmap\n",
    "plt.imshow(grid, cmap=cmap, origin='lower')\n",
    "\n",
    "# Add a color bar to show the scale\n",
    "plt.colorbar(label='Value')\n",
    "\n",
    "# Add labels and title\n",
    "plt.xlabel('X-axis')\n",
    "plt.ylabel('Y-axis')\n",
    "plt.title('20x20 Grid Visualization')\n",
    "\n",
    "# Show the plot\n",
    "plt.show()"
   ]
  }
 ],
 "metadata": {
  "kernelspec": {
   "display_name": ".visibility-game-env",
   "language": "python",
   "name": "python3"
  },
  "language_info": {
   "codemirror_mode": {
    "name": "ipython",
    "version": 3
   },
   "file_extension": ".py",
   "mimetype": "text/x-python",
   "name": "python",
   "nbconvert_exporter": "python",
   "pygments_lexer": "ipython3",
   "version": "3.8.10"
  }
 },
 "nbformat": 4,
 "nbformat_minor": 2
}
