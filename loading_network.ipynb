{
 "cells": [
  {
   "cell_type": "code",
   "execution_count": 1,
   "metadata": {},
   "outputs": [],
   "source": [
    "import os\n",
    "import torch\n",
    "from trainers.torch.networks import SplitValueSharedActorCritic\n",
    "from mlagents_envs.base_env import ObservationSpec, DimensionProperty, ObservationType\n",
    "from mlagents.trainers.settings import NetworkSettings, TrainerSettings\n",
    "from mlagents_envs.base_env import ActionSpec\n",
    "from trainers.policy.torch_policy import TorchPolicy\n",
    "from mlagents_envs.base_env import BehaviorSpec"
   ]
  },
  {
   "cell_type": "code",
   "execution_count": 2,
   "metadata": {},
   "outputs": [],
   "source": [
    "run_name=\"standarddc2\"\n",
    "load_path = f\"/home/rmarr/Projects/visibility-game-env/results/{run_name}/Seeker/checkpoint.pt\"\n",
    "saved_state_dict = torch.load(load_path)"
   ]
  },
  {
   "cell_type": "code",
   "execution_count": 3,
   "metadata": {},
   "outputs": [],
   "source": [
    "seed = 5404\n",
    "observation_specs = [ObservationSpec(\n",
    "            name=\"position_observation\",\n",
    "            shape=(12,),  # 3D vector\n",
    "            dimension_property=(DimensionProperty.NONE,),  # Must be a tuple\n",
    "            observation_type=ObservationType.DEFAULT\n",
    "        )]\n",
    "action_spec = ActionSpec(\n",
    "    continuous_size=0,\n",
    "    discrete_branches=(5,)\n",
    ")\n",
    "behavior_spec = BehaviorSpec(\n",
    "    observation_specs=observation_specs,\n",
    "    action_spec=action_spec\n",
    ")\n",
    "trainer_settings = TrainerSettings(\n",
    "    dual_critic=True\n",
    ")\n",
    "network_settings = NetworkSettings(\n",
    "    deterministic=False,\n",
    "    memory=None,\n",
    "    hidden_units=128,\n",
    "    num_layers=2,\n",
    ")\n",
    "\n",
    "stream_names = [\"default\"]\n",
    "conditional_sigma = False\n",
    "tanh_squash = False\n",
    "load_critic_only = \"position_only\""
   ]
  },
  {
   "cell_type": "code",
   "execution_count": 4,
   "metadata": {},
   "outputs": [],
   "source": [
    "policy = TorchPolicy(\n",
    "    seed=seed,\n",
    "    behavior_spec=behavior_spec,\n",
    "    trainer_settings=trainer_settings,\n",
    "    tanh_squash=False,\n",
    "    separate_critic=True,\n",
    "    condition_sigma_on_obs=False,\n",
    "    load_critic_only=load_critic_only\n",
    ")"
   ]
  },
  {
   "cell_type": "code",
   "execution_count": 5,
   "metadata": {},
   "outputs": [],
   "source": [
    "modules = policy.get_modules()"
   ]
  },
  {
   "cell_type": "code",
   "execution_count": 6,
   "metadata": {},
   "outputs": [
    {
     "data": {
      "text/plain": [
       "odict_keys(['version_number', 'is_continuous_int_deprecated', 'continuous_act_size_vector', 'discrete_act_size_vector', 'act_size_vector_deprecated', 'memory_size_vector', 'network_body._body_endoder.seq_layers.0.weight', 'network_body._body_endoder.seq_layers.0.bias', 'network_body._body_endoder.seq_layers.2.weight', 'network_body._body_endoder.seq_layers.2.bias', 'action_model._discrete_distribution.branches.0.weight', 'action_model._discrete_distribution.branches.0.bias', 'value_heads.value_heads.extrinsic.weight', 'value_heads.value_heads.extrinsic.bias', 'position_network._body_endoder.seq_layers.0.weight', 'position_network._body_endoder.seq_layers.0.bias', 'position_network._body_endoder.seq_layers.2.weight', 'position_network._body_endoder.seq_layers.2.bias', 'crumbs_network._body_endoder.seq_layers.0.weight', 'crumbs_network._body_endoder.seq_layers.0.bias', 'crumbs_network._body_endoder.seq_layers.2.weight', 'crumbs_network._body_endoder.seq_layers.2.bias', 'importance_network._body_endoder.seq_layers.0.weight', 'importance_network._body_endoder.seq_layers.0.bias', 'importance_network._body_endoder.seq_layers.2.weight', 'importance_network._body_endoder.seq_layers.2.bias'])"
      ]
     },
     "execution_count": 6,
     "metadata": {},
     "output_type": "execute_result"
    }
   ],
   "source": [
    "saved_state_dict['Policy'].keys()"
   ]
  },
  {
   "cell_type": "code",
   "execution_count": 7,
   "metadata": {},
   "outputs": [],
   "source": [
    "position_state_dict = {k: v for k, v in saved_state_dict['Policy'].items() if 'position_network' in k or 'cr'}\n",
    "importance_network_path = \"/home/rmarr/Projects/visibility-game-env/informed_init/bias_importance.pt\"\n",
    "importance_state_dict = torch.load(importance_network_path)"
   ]
  },
  {
   "cell_type": "code",
   "execution_count": 8,
   "metadata": {},
   "outputs": [],
   "source": [
    "#print(saved_state_dict['Policy'])"
   ]
  },
  {
   "cell_type": "code",
   "execution_count": 9,
   "metadata": {},
   "outputs": [
    {
     "data": {
      "text/plain": [
       "_IncompatibleKeys(missing_keys=['version_number', 'is_continuous_int_deprecated', 'continuous_act_size_vector', 'discrete_act_size_vector', 'act_size_vector_deprecated', 'memory_size_vector', 'network_body._body_endoder.seq_layers.0.weight', 'network_body._body_endoder.seq_layers.0.bias', 'network_body._body_endoder.seq_layers.2.weight', 'network_body._body_endoder.seq_layers.2.bias', 'action_model._discrete_distribution.branches.0.weight', 'action_model._discrete_distribution.branches.0.bias', 'value_heads.value_heads.extrinsic.weight', 'value_heads.value_heads.extrinsic.bias', 'position_network._body_endoder.seq_layers.0.weight', 'position_network._body_endoder.seq_layers.0.bias', 'position_network._body_endoder.seq_layers.2.weight', 'position_network._body_endoder.seq_layers.2.bias', 'crumbs_network._body_endoder.seq_layers.0.weight', 'crumbs_network._body_endoder.seq_layers.0.bias', 'crumbs_network._body_endoder.seq_layers.2.weight', 'crumbs_network._body_endoder.seq_layers.2.bias', 'importance_network._body_endoder.seq_layers.0.weight', 'importance_network._body_endoder.seq_layers.0.bias', 'importance_network._body_endoder.seq_layers.2.weight', 'importance_network._body_endoder.seq_layers.2.bias'], unexpected_keys=['_body_endoder.seq_layers.0.weight', '_body_endoder.seq_layers.0.bias', '_body_endoder.seq_layers.2.weight', '_body_endoder.seq_layers.2.bias'])"
      ]
     },
     "execution_count": 9,
     "metadata": {},
     "output_type": "execute_result"
    }
   ],
   "source": [
    "modules['Policy'].load_state_dict(position_state_dict, strict=False)\n",
    "modules['Policy'].load_state_dict(importance_state_dict, strict=False)"
   ]
  },
  {
   "cell_type": "code",
   "execution_count": 10,
   "metadata": {},
   "outputs": [],
   "source": [
    "positions = []\n",
    "for y in range(-9, 11, 1):\n",
    "    for x in range(-9, 11, 1):\n",
    "        positions.append([x-0.5, 0.5, y-0.5])\n",
    "positions = [torch.tensor(positions)]"
   ]
  },
  {
   "cell_type": "code",
   "execution_count": 11,
   "metadata": {},
   "outputs": [
    {
     "data": {
      "text/plain": [
       "400"
      ]
     },
     "execution_count": 11,
     "metadata": {},
     "output_type": "execute_result"
    }
   ],
   "source": [
    "len(positions[0])"
   ]
  },
  {
   "cell_type": "code",
   "execution_count": 12,
   "metadata": {},
   "outputs": [
    {
     "data": {
      "text/plain": [
       "tensor([2.9684], grad_fn=<SqueezeBackward1>)"
      ]
     },
     "execution_count": 12,
     "metadata": {},
     "output_type": "execute_result"
    }
   ],
   "source": [
    "policy.actor.critic_pass_position([torch.tensor([[8.5, 0.5, 2.5]])])[0]['extrinsic']"
   ]
  },
  {
   "cell_type": "code",
   "execution_count": 13,
   "metadata": {},
   "outputs": [],
   "source": [
    "vals = policy.actor.critic_pass_position(positions)[0]['extrinsic']"
   ]
  },
  {
   "cell_type": "code",
   "execution_count": 14,
   "metadata": {},
   "outputs": [
    {
     "data": {
      "image/png": "[encoded data removed]",
      "text/plain": [
       "<Figure size 640x480 with 2 Axes>"
      ]
     },
     "metadata": {},
     "output_type": "display_data"
    }
   ],
   "source": [
    "import matplotlib.pyplot as plt\n",
    "import numpy as np\n",
    "\n",
    "# Assuming 'vals' is your tensor of 400 values\n",
    "vals_np = vals.detach().cpu().numpy()  # Convert tensor to numpy array\n",
    "\n",
    "# Reshape the values into a 20x20 grid\n",
    "grid = vals_np.reshape((20, 20))\n",
    "\n",
    "# Create a colormap with a gradient from blue (min) to red (max)\n",
    "cmap = plt.get_cmap('coolwarm')\n",
    "\n",
    "# Plot the heatmap\n",
    "plt.imshow(grid, cmap=cmap, origin='lower')\n",
    "\n",
    "# Add a color bar to show the scale\n",
    "plt.colorbar(label='Value')\n",
    "\n",
    "# Add labels and title\n",
    "plt.xlabel('X-axis')\n",
    "plt.ylabel('Y-axis')\n",
    "plt.title('20x20 Grid Visualization')\n",
    "\n",
    "# Show the plot\n",
    "plt.show()"
   ]
  }
 ],
 "metadata": {
  "kernelspec": {
   "display_name": ".visibility-game-env",
   "language": "python",
   "name": "python3"
  },
  "language_info": {
   "codemirror_mode": {
    "name": "ipython",
    "version": 3
   },
   "file_extension": ".py",
   "mimetype": "text/x-python",
   "name": "python",
   "nbconvert_exporter": "python",
   "pygments_lexer": "ipython3",
   "version": "3.8.10"
  }
 },
 "nbformat": 4,
 "nbformat_minor": 2
}
